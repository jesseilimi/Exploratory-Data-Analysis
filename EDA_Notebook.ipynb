{
 "cells": [
  {
   "cell_type": "markdown",
   "id": "90d3892c",
   "metadata": {},
   "source": [
    "# Exploratory Data Analysis"
   ]
  },
  {
   "cell_type": "markdown",
   "id": "85ba1237",
   "metadata": {},
   "source": [
    "## Step 1: Load the Data"
   ]
  },
  {
   "cell_type": "code",
   "execution_count": null,
   "id": "ec631f8f",
   "metadata": {},
   "outputs": [],
   "source": [
    "import pandas as pd\n",
    "import matplotlib.pyplot as plt\n",
    "import seaborn as sns\n",
    "\n",
    "# Load the datasets\n",
    "client_data = pd.read_csv('/mnt/data/client_data (1).csv')\n",
    "price_data = pd.read_csv('/mnt/data/price_data (1).csv')\n",
    "\n",
    "# Display the first few rows of each dataset\n",
    "print(\"Client Data:\")\n",
    "display(client_data.head())\n",
    "print(\"\\nPrice Data:\")\n",
    "display(price_data.head())"
   ]
  },
  {
   "cell_type": "markdown",
   "id": "ac523edc",
   "metadata": {},
   "source": [
    "## Step 2: Explore Data Types"
   ]
  },
  {
   "cell_type": "code",
   "execution_count": null,
   "id": "4e48a4f2",
   "metadata": {},
   "outputs": [],
   "source": [
    "# Check data types\n",
    "print(\"Client Data Types:\")\n",
    "print(client_data.dtypes)\n",
    "print(\"\\nPrice Data Types:\")\n",
    "print(price_data.dtypes)"
   ]
  },
  {
   "cell_type": "markdown",
   "id": "6b571595",
   "metadata": {},
   "source": [
    "## Step 3: Descriptive Statistics"
   ]
  },
  {
   "cell_type": "code",
   "execution_count": null,
   "id": "8c0e9d0e",
   "metadata": {},
   "outputs": [],
   "source": [
    "# Descriptive statistics\n",
    "print(\"Client Data Descriptive Statistics:\")\n",
    "display(client_data.describe(include='all'))\n",
    "print(\"\\nPrice Data Descriptive Statistics:\")\n",
    "display(price_data.describe(include='all'))"
   ]
  },
  {
   "cell_type": "markdown",
   "id": "20dd3cc3",
   "metadata": {},
   "source": [
    "## Step 4: Visualize Distributions"
   ]
  },
  {
   "cell_type": "code",
   "execution_count": null,
   "id": "b6d6c0e6",
   "metadata": {},
   "outputs": [],
   "source": [
    "# Function to plot distributions\n",
    "def plot_distributions(df, title):\n",
    "    num_cols = df.select_dtypes(include=['float64', 'int64']).columns\n",
    "    fig, axs = plt.subplots(len(num_cols), 1, figsize=(10, 5*len(num_cols)))\n",
    "    fig.suptitle(title, fontsize=16)\n",
    "    \n",
    "    for i, col in enumerate(num_cols):\n",
    "        sns.histplot(df[col], kde=True, ax=axs[i])\n",
    "        axs[i].set_title(col)\n",
    "    \n",
    "    plt.tight_layout()\n",
    "    plt.subplots_adjust(top=0.95)\n",
    "    plt.show()\n",
    "\n",
    "# Plot distributions\n",
    "plot_distributions(client_data, \"Client Data Distributions\")\n",
    "plot_distributions(price_data, \"Price Data Distributions\")"
   ]
  }
 ],
 "metadata": {},
 "nbformat": 4,
 "nbformat_minor": 5
}
